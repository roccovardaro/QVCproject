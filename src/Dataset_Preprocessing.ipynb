{
 "cells": [
  {
   "metadata": {},
   "cell_type": "markdown",
   "source": "# PREPROCESSING DATASET",
   "id": "c9f6096864319443"
  },
  {
   "metadata": {},
   "cell_type": "code",
   "source": [
    "import seaborn as sns\n",
    "import matplotlib.pyplot as plt\n",
    "from sklearn.feature_selection import SelectKBest, f_classif\n",
    "import pandas as pd"
   ],
   "id": "914a8ed2072ac982",
   "outputs": [],
   "execution_count": null
  },
  {
   "metadata": {},
   "cell_type": "markdown",
   "source": "### Definizione del percorso del file",
   "id": "9fac63b327c91965"
  },
  {
   "cell_type": "code",
   "id": "initial_id",
   "metadata": {
    "collapsed": true
   },
   "source": "path_file = \"../dataset/diabetes.csv\"",
   "outputs": [],
   "execution_count": null
  },
  {
   "metadata": {},
   "cell_type": "markdown",
   "source": [
    "### Definizione dell'etichetta\n",
    "Viene definita la variabile label, che rappresenta il nome della colonna target del dataset.\n"
   ],
   "id": "c593de497add6c72"
  },
  {
   "metadata": {},
   "cell_type": "code",
   "source": "label= \"Outcome\"",
   "id": "1c4b4389b86bf25b",
   "outputs": [],
   "execution_count": null
  },
  {
   "metadata": {},
   "cell_type": "markdown",
   "source": "### Funzione di caricamento del dataset",
   "id": "37d079a982253d0e"
  },
  {
   "metadata": {},
   "cell_type": "code",
   "outputs": [],
   "execution_count": null,
   "source": [
    "def create_dataset(path_file):\n",
    "    df = pd.read_csv(path_file)\n",
    "    return df"
   ],
   "id": "d0a3f2d6ee48a01c"
  },
  {
   "metadata": {},
   "cell_type": "markdown",
   "source": [
    "### Funzione di preprocessing\n",
    "* `preprocessing`: applica una serie di trasformazioni al dataset.\n",
    "\n",
    "* `campionamento`: bilancia il dataset prelevando un numero fisso di esempi per ciascuna classe.\n",
    "\n",
    "* `KBestFeatureSelected`: seleziona le __k migliori feature__ predittive del dataset utilizzando il metodo `SelectKBest` con la funzione di punteggio ANOVA(`f_classif`)."
   ],
   "id": "6bb535854f9a8158"
  },
  {
   "metadata": {},
   "cell_type": "code",
   "source": [
    "def preprocessing(df, num_features=4, num_tuples=100):\n",
    "    df=df.drop(columns= [\"Age\"])\n",
    "    df=KBestFeaturesSelected(df,num_features)\n",
    "    df=campionamento(df,num_class_0=num_tuples,num_class_1=num_tuples)\n",
    "    return df\n",
    "\n",
    "def campionamento(df, num_class_0=100, num_class_1=100):\n",
    "    df_filtrato_0 = df[df[label]==0]\n",
    "    df_campione_0 = df_filtrato_0.sample(n=num_class_0, random_state=42)\n",
    "    df_filtrato_1 = df[df[label]==1]\n",
    "    df_campione_1 = df_filtrato_1.sample(n=num_class_1, random_state=42)\n",
    "    return pd.concat([df_campione_0, df_campione_1], axis=0, ignore_index=True)\n",
    "\n",
    "def KBestFeaturesSelected(df,k=4):\n",
    "    X= df.drop(columns=[label])\n",
    "    y=df[label]\n",
    "    selector= SelectKBest(f_classif, k=k)\n",
    "    selector.fit_transform(X,y)\n",
    "    listKbestColumns= list(X.columns[selector.get_support()])\n",
    "    return df[listKbestColumns+[label]]\n"
   ],
   "id": "5c55bc03a4a46",
   "outputs": [],
   "execution_count": null
  },
  {
   "metadata": {},
   "cell_type": "code",
   "source": [
    "df=create_dataset(path_file)\n",
    "df=preprocessing(df, num_features=5, num_tuples=100)"
   ],
   "id": "b895f4e10308e5a3",
   "outputs": [],
   "execution_count": null
  },
  {
   "metadata": {},
   "cell_type": "markdown",
   "source": "### Visualizzazione Matrice di Correlazione",
   "id": "47365736e40d0bde"
  },
  {
   "metadata": {},
   "cell_type": "code",
   "source": [
    "df_corr=df.drop(columns=[label])\n",
    "sns.heatmap(df_corr.corr(), annot=True, cmap='coolwarm')\n",
    "plt.title(\"Matrice di Correlazione\")\n",
    "plt.show()"
   ],
   "id": "9df596d0d2018be2",
   "outputs": [],
   "execution_count": null
  },
  {
   "metadata": {},
   "cell_type": "markdown",
   "source": "### Salvataggio del dataset pre-elaborato",
   "id": "24f62dbfa082c34"
  },
  {
   "metadata": {},
   "cell_type": "code",
   "source": [
    "n_features=len(list(df.columns))-1\n",
    "df.to_csv(f'final_diabetes_dataset_{n_features}.csv', index=False)"
   ],
   "id": "20da37d355c0a56e",
   "outputs": [],
   "execution_count": null
  }
 ],
 "metadata": {
  "kernelspec": {
   "display_name": "Python 3",
   "language": "python",
   "name": "python3"
  },
  "language_info": {
   "codemirror_mode": {
    "name": "ipython",
    "version": 2
   },
   "file_extension": ".py",
   "mimetype": "text/x-python",
   "name": "python",
   "nbconvert_exporter": "python",
   "pygments_lexer": "ipython2",
   "version": "2.7.6"
  }
 },
 "nbformat": 4,
 "nbformat_minor": 5
}
