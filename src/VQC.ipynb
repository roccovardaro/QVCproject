{
 "cells": [
  {
   "metadata": {},
   "cell_type": "markdown",
   "source": "# VARIATIONAL QUANTUM CLASSIFIER",
   "id": "805da526ea0eba93"
  },
  {
   "metadata": {},
   "cell_type": "code",
   "source": [
    "import pandas as pd\n",
    "from sklearn.model_selection import train_test_split\n",
    "from sklearn.preprocessing import MinMaxScaler\n",
    "import numpy as np\n",
    "from qiskit import transpile\n",
    "from qiskit_aer import AerSimulator\n",
    "from qiskit_ibm_runtime.fake_provider import FakeVigoV2\n",
    "from qiskit.primitives import StatevectorSampler\n",
    "from qiskit.circuit.library import ZFeatureMap, ZZFeatureMap, PauliFeatureMap\n",
    "from qiskit.circuit.library import EfficientSU2, RealAmplitudes\n",
    "from matplotlib import pyplot as plt\n",
    "from scipy.optimize import minimize\n",
    "from sklearn.metrics import accuracy_score,precision_score,recall_score, f1_score, log_loss,confusion_matrix\n"
   ],
   "id": "3397fad3bac5d63",
   "outputs": [],
   "execution_count": null
  },
  {
   "metadata": {},
   "cell_type": "code",
   "source": "label=\"Outcome\"",
   "id": "b9b7ae1d1fae77ce",
   "outputs": [],
   "execution_count": null
  },
  {
   "metadata": {},
   "cell_type": "markdown",
   "source": "### Caricamento del dataset CSV",
   "id": "cf4e90f4e6977c72"
  },
  {
   "metadata": {},
   "cell_type": "code",
   "source": [
    "path_file= \"../dataset/final_diabetes_dataset_5.csv\"\n",
    "df=pd.read_csv(path_file)"
   ],
   "id": "b1329c301cf968e0",
   "outputs": [],
   "execution_count": null
  },
  {
   "metadata": {},
   "cell_type": "markdown",
   "source": [
    "###  Funzione di normalizzazione per Feature Map\n",
    "\n",
    "Definisce due funzioni:\n",
    "* `rescalerZFeatureMap`: normalizza le feature nel range $ [0,\\pi ]$.\n",
    "\n",
    "* `rescalerZZFeatureMap`: normalizza le feature nel range $ [0,1] $.\n"
   ],
   "id": "b8901af6521973e7"
  },
  {
   "metadata": {},
   "cell_type": "code",
   "source": [
    "def rescalerZFeatureMap(df):\n",
    "    scaler=MinMaxScaler(feature_range=(0,np.pi))\n",
    "    columns_to_scale = df.columns.difference([label])\n",
    "    df_scaled_part = pd.DataFrame(scaler.fit_transform(df[columns_to_scale]), columns=columns_to_scale)\n",
    "    df_scaled = pd.concat([df_scaled_part, df[label]], axis=1)\n",
    "    df_scaled = df_scaled[df.columns]\n",
    "    return df_scaled\n",
    "\n",
    "def rescalerZZFeatureMap(df):\n",
    "    scaler = MinMaxScaler(feature_range=(0, 1))\n",
    "    columns_to_scale = df.columns.difference([label])\n",
    "    df_scaled_part = pd.DataFrame(scaler.fit_transform(df[columns_to_scale]), columns=columns_to_scale)\n",
    "    df_scaled = pd.concat([df_scaled_part, df[label]], axis=1)\n",
    "    df_scaled = df_scaled[df.columns]\n",
    "    return df_scaled"
   ],
   "id": "facf102a96409e5b",
   "outputs": [],
   "execution_count": null
  },
  {
   "metadata": {},
   "cell_type": "code",
   "source": [
    "#df=rescalerZZFeatureMap(df)\n",
    "df=rescalerZFeatureMap(df)"
   ],
   "id": "4bdb9bfbe12256e8",
   "outputs": [],
   "execution_count": null
  },
  {
   "metadata": {},
   "cell_type": "markdown",
   "source": "### Separazione delle feature e dell’etichetta",
   "id": "80abdc07538b931c"
  },
  {
   "metadata": {},
   "cell_type": "code",
   "source": [
    "X = df.drop(label, axis=1)\n",
    "y = df[label]"
   ],
   "id": "15e4360e27ebb577",
   "outputs": [],
   "execution_count": null
  },
  {
   "metadata": {},
   "cell_type": "markdown",
   "source": "### Suddivisione del dataset in train e test",
   "id": "52cb9ff2f36e0812"
  },
  {
   "metadata": {},
   "cell_type": "code",
   "source": "X_train, X_test, y_train, y_test = train_test_split(X, y, test_size=0.3, random_state=42)",
   "id": "c7c90d5b6c699a36",
   "outputs": [],
   "execution_count": null
  },
  {
   "metadata": {},
   "cell_type": "code",
   "source": [
    "X_train_new=X_train.values.tolist()\n",
    "X_test_new=X_test.values.tolist()\n",
    "y_train_new=y_train.tolist()\n",
    "y_test_new=y_test.tolist()"
   ],
   "id": "2057287f856456e",
   "outputs": [],
   "execution_count": null
  },
  {
   "metadata": {},
   "cell_type": "markdown",
   "source": "### Circuito per Encoding",
   "id": "604c80ceb5019212"
  },
  {
   "metadata": {},
   "cell_type": "code",
   "outputs": [],
   "execution_count": null,
   "source": "num_features = df.shape[1]-1",
   "id": "1980870fd38e377b"
  },
  {
   "metadata": {},
   "cell_type": "markdown",
   "source": [
    "### Costruzione della Feature Map\n",
    "Definisce il circuito di encoding `feature_map` usando una `ZFeatureMap` o `PauliFeatureMap` o `ZZFeatureMap` ."
   ],
   "id": "6c0d79b906ca6c4a"
  },
  {
   "metadata": {},
   "cell_type": "code",
   "source": [
    "#feature_map = PauliFeatureMap(feature_dimension=num_features, reps=1)\n",
    "#feature_map = ZZFeatureMap(feature_dimension=num_features, reps=1)\n",
    "feature_map = ZFeatureMap(feature_dimension=num_features, reps=1)\n",
    "feature_map.barrier()\n",
    "feature_map.decompose().draw(output=\"mpl\", fold=20)"
   ],
   "id": "496beb1cf8604ab2",
   "outputs": [],
   "execution_count": null
  },
  {
   "metadata": {},
   "cell_type": "markdown",
   "source": [
    "### Definizione dell’Ansatz parametrico\n",
    "Crea un circuito ansatz usando `EfficientSU2`o in alternativa `RealAmplitudes`."
   ],
   "id": "56e3b655a35641fe"
  },
  {
   "metadata": {},
   "cell_type": "code",
   "source": [
    "ansatz=EfficientSU2(num_features,reps=2)\n",
    "#ansatz=RealAmplitudes(num_features,reps=2)\n",
    "ansatz.barrier()\n",
    "ansatz.decompose().draw(output=\"mpl\", fold=20)"
   ],
   "id": "3a243183da153bc2",
   "outputs": [],
   "execution_count": null
  },
  {
   "metadata": {},
   "cell_type": "markdown",
   "source": "### Combinazione di encoding e ansatz",
   "id": "164baebd643cfc4e"
  },
  {
   "metadata": {},
   "cell_type": "code",
   "source": [
    "ad_hoc_circuit = feature_map.compose(ansatz)\n",
    "ad_hoc_circuit.measure_all()\n",
    "ad_hoc_circuit.decompose().draw(output=\"mpl\", style=\"iqp\")"
   ],
   "id": "4d8efc5d07f85dfd",
   "outputs": [],
   "execution_count": null
  },
  {
   "metadata": {},
   "cell_type": "markdown",
   "source": [
    "### Assegnazione parametri e interpretazione dei bitstring\n",
    "definisce:\n",
    "* `circuit_instance`: assegna i valori classici (feature dell'input) alla feature map e i parametri variabili $θ$ alla ansatz, unendoli nel circuito finale.\n",
    "* `interpreter`: interpreta un risultato quantistico (btstring misurato) come un'etichetta di classe.\n",
    "* `label_probability`: calcola la probabilità che un istanza rappresenti la classe 0 o 1 ."
   ],
   "id": "a0fd6c2ac8dd4947"
  },
  {
   "metadata": {},
   "cell_type": "code",
   "source": [
    "def circuit_instance(tuple, variational):\n",
    "    # tuple: una tupla\n",
    "    # variational: parametri dell'ansatz (theta)\n",
    "    parameters = {}\n",
    "    for i, p in enumerate(feature_map.ordered_parameters):\n",
    "        parameters[p] =tuple[i]\n",
    "    for i, p in enumerate(ansatz.ordered_parameters):\n",
    "        parameters[p] = variational[i]\n",
    "    return ad_hoc_circuit.assign_parameters(parameters)\n",
    "\n",
    "def interpreter(bitstring):\n",
    "    hamming_weight = sum(int(k) for k in list(bitstring))\n",
    "    return (hamming_weight) % 2\n",
    "\n",
    "def label_probability(results):\n",
    "    shots = sum(results.values())\n",
    "    probabilities = {0: 0, 1: 0}\n",
    "    for bitstring, counts in results.items():\n",
    "        label = interpreter(bitstring)\n",
    "        probabilities[label] += counts / shots\n",
    "    return probabilities"
   ],
   "id": "4385d3570de6ea3c",
   "outputs": [],
   "execution_count": null
  },
  {
   "metadata": {},
   "cell_type": "markdown",
   "source": [
    "### Probabilità di classificazione (ideale e rumorosa)\n",
    "definisce:\n",
    "* `classification_probability`: esegue la classificazione quantistica in ambiente ideale (senza rumore).\n",
    "\n",
    "* `classification_probability_with_noisy`: simula la classificazione con rumore, per imitare un ambiente quantistico reale."
   ],
   "id": "68dcbdcca991e169"
  },
  {
   "metadata": {},
   "cell_type": "code",
   "source": [
    "def classification_probability(data, variational):\n",
    "    circuits = [circuit_instance(tupla, variational) for tupla in data]\n",
    "    sampler = StatevectorSampler()\n",
    "    results = sampler.run(circuits).result()\n",
    "    classification = [label_probability(results[i].data.meas.get_counts()) for i, c in enumerate(circuits)]\n",
    "\n",
    "    return classification\n",
    "\n",
    "def classification_probability_with_noisy(data, variational):\n",
    "    circuits = [circuit_instance(tupla, variational) for tupla in data]\n",
    "\n",
    "    fake_backend = FakeVigoV2()\n",
    "    sim = AerSimulator.from_backend(fake_backend)\n",
    "\n",
    "    transpiled_qc = transpile(circuits, sim)\n",
    "    results = sim.run(transpiled_qc).result()\n",
    "\n",
    "    classifications = []\n",
    "\n",
    "    for result in results.get_counts():\n",
    "        classifications.append(label_probability(result))\n",
    "\n",
    "    return classifications"
   ],
   "id": "c8e1f1f78b3b4368",
   "outputs": [],
   "execution_count": null
  },
  {
   "metadata": {},
   "cell_type": "markdown",
   "source": [
    "###  Definizione della funzione di costo per l'ottimizzazione\n",
    "definisce:\n",
    "\n",
    "* `cost_function`: usa `classification_probability()` per ottenere le probabilità predette da ciascun circuito e successivamente trasfora queste probabilità in una forma accettata da log_loss di sklearn.\n",
    "\n",
    "* `cost_function_with_noisy`: usa `classification_probability_with_noisy()` calcola la stessa funzione di costo, ma in presenza di rumore quantistico.\n"
   ],
   "id": "3c2321549058a1d4"
  },
  {
   "metadata": {},
   "cell_type": "code",
   "source": [
    "def cost_function(data, labels, variational):\n",
    "    classifications = classification_probability(data, variational)\n",
    "    cost=log_loss(y_true=labels,y_pred=[[p[0],p[1]] for p in classifications])\n",
    "    return cost\n",
    "\n",
    "def cost_function_with_noisy(data, labels, variational):\n",
    "    classifications = classification_probability_with_noisy(data, variational)\n",
    "    cost=log_loss(y_true=labels,y_pred=[[p[0],p[1]] for p in classifications])\n",
    "    return cost\n",
    "\n",
    "def objective_function(variational):\n",
    "    #return cost_function_with_noisy(X_train_new,y_train_new,variational)\n",
    "    return cost_function(X_train_new, y_train_new, variational)"
   ],
   "id": "191b3f4be32688d9",
   "outputs": [],
   "execution_count": null
  },
  {
   "metadata": {},
   "cell_type": "markdown",
   "source": [
    "### Definizione del logger per il tracciamento dell'ottimizzazione\n",
    "\n",
    "Gestisce e salva i risultati intermedi dell’ottimizzazione durante l’addestramento del VQC. È progettata per essere usata come callback in `scipy.optimize.minimize`."
   ],
   "id": "67adbded8621ce79"
  },
  {
   "metadata": {},
   "cell_type": "code",
   "outputs": [],
   "execution_count": null,
   "source": [
    "class OptimizerLog:\n",
    "    \"\"\"Log per salvare i risultati intermedi dell'ottimizzazione.\"\"\"\n",
    "    def __init__(self):\n",
    "        self.evaluations = 1\n",
    "        self.parameters = []\n",
    "        self.costs = []\n",
    "\n",
    "    def callback(self, xk):\n",
    "        \"\"\"Funzione di callback compatibile con scipy.optimize.minimize.\"\"\"\n",
    "        cost = objective_function(xk)\n",
    "        self.parameters.append(xk.copy())\n",
    "        print(\"loss_function:\", cost, \"iterazione:\", self.evaluations)\n",
    "        self.costs.append(cost)\n",
    "        self.evaluations += 1"
   ],
   "id": "fe25a4cc6685b68c"
  },
  {
   "metadata": {},
   "cell_type": "markdown",
   "source": "### Avvio dell’ottimizzazione dei parametri del VQC",
   "id": "6e36ed1489c63a79"
  },
  {
   "metadata": {},
   "cell_type": "code",
   "source": [
    "logger = OptimizerLog()\n",
    "\n",
    "initial_point = np.zeros((ansatz.num_parameters))\n",
    "#initial_point = np.random.uniform(0, 2*np.pi, size=ansatz.num_parameters)\n",
    "\n",
    "res = minimize(\n",
    "    objective_function,\n",
    "    initial_point,\n",
    "    method=\"COBYLA\", # ottimizzatore alternativo utilizzato COBYQA\n",
    "    options={\"maxiter\": 5000},\n",
    "    callback=logger.callback\n",
    ")"
   ],
   "id": "fdebda9e07752d1",
   "outputs": [],
   "execution_count": null
  },
  {
   "metadata": {},
   "cell_type": "code",
   "source": [
    "opt_var = res.x\n",
    "opt_value = res.fun\n",
    "\n",
    "fig = plt.figure()\n",
    "plt.plot(logger.costs)\n",
    "plt.xlabel('Steps')\n",
    "plt.ylabel('Cost')\n",
    "plt.show()\n",
    "\n",
    "print(\"migliori parametri\",opt_var)\n",
    "print(\"miglior funzione obiettivo\",opt_value)"
   ],
   "id": "7a18d40d23eaa44f",
   "outputs": [],
   "execution_count": null
  },
  {
   "metadata": {},
   "cell_type": "markdown",
   "source": [
    "### Funzione generale di valutazione del classificatore quantistico\n",
    "\n",
    "La funzione `test_classifier` confronta ogni predizione con l’etichetta vera e calcola il numero di classificazioni corrette. Restituisce come risultato finale l’accuratezzae  la lista delle etichette predette."
   ],
   "id": "ca85c94b43a57f74"
  },
  {
   "metadata": {},
   "cell_type": "code",
   "source": [
    "def test_classifier(data, labels, variational):\n",
    "\n",
    "    probability = classification_probability(data, variational)\n",
    "    #probability = classification_probability_with_noisy(data, variational)\n",
    "\n",
    "    predictions= [max(p, key=p.get) for p in probability]\n",
    "    accuracy = 0\n",
    "    for i, prediction in enumerate(predictions):\n",
    "        if prediction == labels[i]:\n",
    "            accuracy += 1\n",
    "    accuracy /= len(labels)\n",
    "    return accuracy , predictions"
   ],
   "id": "6f88b8ca4b0f6811",
   "outputs": [],
   "execution_count": null
  },
  {
   "metadata": {},
   "cell_type": "markdown",
   "source": "### Valutazione del classificatore sui dati di training e test",
   "id": "ebb4498f9346222b"
  },
  {
   "metadata": {},
   "cell_type": "code",
   "outputs": [],
   "execution_count": null,
   "source": [
    "_ , predictions_train = test_classifier(X_train_new, y_train_new, opt_var)\n",
    "_ , predictions_test = test_classifier(X_test_new, y_test_new, opt_var)"
   ],
   "id": "18e110d4466dc164"
  },
  {
   "metadata": {},
   "cell_type": "markdown",
   "source": "### Calcolo delle metriche di valutazione sul test",
   "id": "2b5c2568b21f368b"
  },
  {
   "metadata": {},
   "cell_type": "code",
   "source": [
    "accuracy  = accuracy_score(y_test_new, predictions_test)\n",
    "precision = precision_score(y_test_new, predictions_test)\n",
    "recall    = recall_score(y_test_new, predictions_test)\n",
    "f1        = f1_score(y_test_new, predictions_test)\n",
    "\n",
    "print(f\"Accuracy_test: {accuracy:.2f}\")\n",
    "print(f\"Precision_test: {precision:.2f}\")\n",
    "print(f\"Recall_test: {recall:.2f}\")\n",
    "print(f\"F1-score_test: {f1:.2f}\")"
   ],
   "id": "da71b1021e831304",
   "outputs": [],
   "execution_count": null
  },
  {
   "metadata": {},
   "cell_type": "markdown",
   "source": "### Confusion Matrix su train e test",
   "id": "f774847fc44fa9c5"
  },
  {
   "metadata": {},
   "cell_type": "code",
   "outputs": [],
   "execution_count": null,
   "source": [
    "confusion_matrix(y_train_new,predictions_train)\n",
    "confusion_matrix(y_test_new,predictions_test)"
   ],
   "id": "f918ed873f6e171a"
  }
 ],
 "metadata": {
  "kernelspec": {
   "display_name": "Python 3",
   "language": "python",
   "name": "python3"
  },
  "language_info": {
   "codemirror_mode": {
    "name": "ipython",
    "version": 2
   },
   "file_extension": ".py",
   "mimetype": "text/x-python",
   "name": "python",
   "nbconvert_exporter": "python",
   "pygments_lexer": "ipython2",
   "version": "2.7.6"
  }
 },
 "nbformat": 4,
 "nbformat_minor": 5
}
