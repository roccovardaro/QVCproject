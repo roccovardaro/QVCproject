{
 "cells": [
  {
   "metadata": {
    "ExecuteTime": {
     "end_time": "2025-06-07T14:37:31.018046Z",
     "start_time": "2025-06-07T14:37:28.685965Z"
    }
   },
   "cell_type": "code",
   "source": [
    "import pandas as pd\n",
    "from sklearn.model_selection import train_test_split\n",
    "from sklearn.preprocessing import MinMaxScaler\n",
    "import numpy as np\n",
    "from qiskit import QuantumCircuit, transpile\n",
    "from qiskit_aer import AerSimulator\n",
    "from qiskit_ibm_runtime.fake_provider import FakeVigoV2\n",
    "from sklearn.metrics import log_loss, accuracy_score\n",
    "from qiskit.primitives import StatevectorSampler\n"
   ],
   "id": "7c3ef58a90de2d68",
   "outputs": [],
   "execution_count": 1
  },
  {
   "metadata": {
    "ExecuteTime": {
     "end_time": "2025-06-07T14:37:31.040619Z",
     "start_time": "2025-06-07T14:37:31.035948Z"
    }
   },
   "cell_type": "code",
   "source": "label=\"Outcome\"",
   "id": "3093182f5ff9cb80",
   "outputs": [],
   "execution_count": 2
  },
  {
   "metadata": {
    "ExecuteTime": {
     "end_time": "2025-06-07T14:37:31.057194Z",
     "start_time": "2025-06-07T14:37:31.050184Z"
    }
   },
   "cell_type": "code",
   "source": [
    "path_file= \"dataset/final_diabetes_dataset_5.csv\"\n",
    "df=pd.read_csv(path_file)"
   ],
   "id": "d9d6896ca01c7a1b",
   "outputs": [],
   "execution_count": 3
  },
  {
   "metadata": {
    "ExecuteTime": {
     "end_time": "2025-06-07T14:37:31.243668Z",
     "start_time": "2025-06-07T14:37:31.238546Z"
    }
   },
   "cell_type": "code",
   "source": "print(df.head())",
   "id": "fc78dae8ca81f07c",
   "outputs": [
    {
     "name": "stdout",
     "output_type": "stream",
     "text": [
      "   Pregnancies  Glucose  Insulin   BMI  DiabetesPedigreeFunction  Outcome\n",
      "0            1       97        0  38.1                     0.218        0\n",
      "1            5       78        0  33.7                     0.654        0\n",
      "2            3      111       44  29.5                     0.430        0\n",
      "3            2      129        0  28.0                     0.284        0\n",
      "4            7      102      105  37.2                     0.204        0\n"
     ]
    }
   ],
   "execution_count": 4
  },
  {
   "metadata": {
    "ExecuteTime": {
     "end_time": "2025-06-07T14:37:31.451571Z",
     "start_time": "2025-06-07T14:37:31.434869Z"
    }
   },
   "cell_type": "code",
   "source": [
    "def rescalerZFeatureMap(df):\n",
    "    scaler=MinMaxScaler(feature_range=(0,np.pi))\n",
    "    columns_to_scale = df.columns.difference([label])\n",
    "    df_scaled_part = pd.DataFrame(scaler.fit_transform(df[columns_to_scale]), columns=columns_to_scale)\n",
    "    df_scaled = pd.concat([df_scaled_part, df[label]], axis=1)\n",
    "    df_scaled = df_scaled[df.columns]\n",
    "    return df_scaled\n",
    "\n",
    "def rescalerZZFeatureMap(df):\n",
    "    scaler = MinMaxScaler(feature_range=(0, 1))\n",
    "    columns_to_scale = df.columns.difference([label])\n",
    "    df_scaled_part = pd.DataFrame(scaler.fit_transform(df[columns_to_scale]), columns=columns_to_scale)\n",
    "    df_scaled = pd.concat([df_scaled_part, df[label]], axis=1)\n",
    "    df_scaled = df_scaled[df.columns]\n",
    "    return df_scaled"
   ],
   "id": "facf102a96409e5b",
   "outputs": [],
   "execution_count": 5
  },
  {
   "metadata": {
    "ExecuteTime": {
     "end_time": "2025-06-07T14:37:31.512356Z",
     "start_time": "2025-06-07T14:37:31.503824Z"
    }
   },
   "cell_type": "code",
   "source": [
    "#df=rescalerZZFeatureMap(df)\n",
    "df=rescalerZFeatureMap(df)"
   ],
   "id": "4bdb9bfbe12256e8",
   "outputs": [],
   "execution_count": 6
  },
  {
   "metadata": {
    "ExecuteTime": {
     "end_time": "2025-06-07T14:37:31.573401Z",
     "start_time": "2025-06-07T14:37:31.567206Z"
    }
   },
   "cell_type": "code",
   "source": [
    "X = df.drop(label, axis=1)\n",
    "y = df[label]"
   ],
   "id": "15e4360e27ebb577",
   "outputs": [],
   "execution_count": 7
  },
  {
   "metadata": {
    "ExecuteTime": {
     "end_time": "2025-06-07T14:37:31.608382Z",
     "start_time": "2025-06-07T14:37:31.602579Z"
    }
   },
   "cell_type": "code",
   "source": "X_train, X_test, y_train, y_test = train_test_split(X, y, test_size=0.3, random_state=42)",
   "id": "c7c90d5b6c699a36",
   "outputs": [],
   "execution_count": 8
  },
  {
   "metadata": {
    "ExecuteTime": {
     "end_time": "2025-06-07T14:37:31.638622Z",
     "start_time": "2025-06-07T14:37:31.634567Z"
    }
   },
   "cell_type": "code",
   "source": [
    "X_train_new=X_train.values.tolist()\n",
    "X_test_new=X_test.values.tolist()\n",
    "y_train_new=y_train.tolist()\n",
    "y_test_new=y_test.tolist()"
   ],
   "id": "2057287f856456e",
   "outputs": [],
   "execution_count": 9
  },
  {
   "metadata": {},
   "cell_type": "markdown",
   "source": "# Quantum Variational Classifier",
   "id": "10e05fd8711c195b"
  },
  {
   "metadata": {},
   "cell_type": "markdown",
   "source": "### Circuito per Encoding",
   "id": "604c80ceb5019212"
  },
  {
   "metadata": {
    "ExecuteTime": {
     "end_time": "2025-06-07T14:37:32.756813Z",
     "start_time": "2025-06-07T14:37:31.675770Z"
    }
   },
   "cell_type": "code",
   "source": [
    "from qiskit.circuit.library import ZFeatureMap, ZZFeatureMap, PauliFeatureMap\n",
    "\n",
    "num_features = df.shape[1]-1\n",
    "\n",
    "#feature_map = PauliFeatureMap(feature_dimension=num_features, reps=1)\n",
    "#feature_map = ZZFeatureMap(feature_dimension=num_features, reps=1)\n",
    "feature_map = ZFeatureMap(feature_dimension=num_features, reps=1)\n",
    "feature_map.barrier()\n",
    "feature_map.decompose().draw(output=\"mpl\", fold=20)"
   ],
   "id": "496beb1cf8604ab2",
   "outputs": [
    {
     "data": {
      "text/plain": [
       "<Figure size 371.107x451.5 with 1 Axes>"
      ],
      "image/png": "[encoded data removed]"
     },
     "execution_count": 10,
     "metadata": {},
     "output_type": "execute_result"
    }
   ],
   "execution_count": 10
  },
  {
   "metadata": {},
   "cell_type": "markdown",
   "source": "### Quantum Circuit Ansatz",
   "id": "56e3b655a35641fe"
  },
  {
   "metadata": {
    "ExecuteTime": {
     "end_time": "2025-06-07T14:37:32.945714Z",
     "start_time": "2025-06-07T14:37:32.774903Z"
    }
   },
   "cell_type": "code",
   "source": [
    "from qiskit.circuit.library import EfficientSU2, RealAmplitudes\n",
    "\n",
    "ansatz=EfficientSU2(num_features,reps=2)\n",
    "#ansatz=RealAmplitudes(num_features,reps=2)\n",
    "ansatz.barrier()\n",
    "ansatz.decompose().draw(output=\"mpl\", fold=20)"
   ],
   "id": "3a243183da153bc2",
   "outputs": [
    {
     "data": {
      "text/plain": [
       "<Figure size 1207.22x451.5 with 1 Axes>"
      ],
      "image/png": "[encoded data removed]"
     },
     "execution_count": 11,
     "metadata": {},
     "output_type": "execute_result"
    }
   ],
   "execution_count": 11
  },
  {
   "metadata": {},
   "cell_type": "markdown",
   "source": "## Combiniamo il tutto ed eseguiamo l'algoritmo Variational Quantum Classifier",
   "id": "164baebd643cfc4e"
  },
  {
   "metadata": {
    "ExecuteTime": {
     "end_time": "2025-06-07T14:37:33.159571Z",
     "start_time": "2025-06-07T14:37:32.963836Z"
    }
   },
   "cell_type": "code",
   "source": [
    "ad_hoc_circuit = feature_map.compose(ansatz)\n",
    "ad_hoc_circuit.measure_all()\n",
    "ad_hoc_circuit.decompose().draw(output=\"mpl\", style=\"iqp\")"
   ],
   "id": "4d8efc5d07f85dfd",
   "outputs": [
    {
     "data": {
      "text/plain": [
       "<Figure size 2001.78x535.111 with 1 Axes>"
      ],
      "image/png": "[encoded data removed]"
     },
     "execution_count": 12,
     "metadata": {},
     "output_type": "execute_result"
    }
   ],
   "execution_count": 12
  },
  {
   "metadata": {},
   "cell_type": "markdown",
   "source": "### Funzioni di utilità per minimizzare la loss function",
   "id": "a0fd6c2ac8dd4947"
  },
  {
   "metadata": {
    "ExecuteTime": {
     "end_time": "2025-06-07T14:37:33.190960Z",
     "start_time": "2025-06-07T14:37:33.187436Z"
    }
   },
   "cell_type": "code",
   "source": "from matplotlib import pyplot as plt",
   "id": "e354e5b07f89d798",
   "outputs": [],
   "execution_count": 13
  },
  {
   "metadata": {
    "ExecuteTime": {
     "end_time": "2025-06-07T14:37:33.226311Z",
     "start_time": "2025-06-07T14:37:33.221454Z"
    }
   },
   "cell_type": "code",
   "source": [
    "def circuit_instance(tuple, variational):\n",
    "    # tuple: una tupla\n",
    "    # variational: parametri dell'ansatz (theta)\n",
    "    parameters = {}\n",
    "    for i, p in enumerate(feature_map.ordered_parameters):\n",
    "        parameters[p] =tuple[i]\n",
    "    for i, p in enumerate(ansatz.ordered_parameters):\n",
    "        parameters[p] = variational[i]\n",
    "    return ad_hoc_circuit.assign_parameters(parameters)\n",
    "\n",
    "\n",
    "def interpreter(bitstring):\n",
    "    hamming_weight = sum(int(k) for k in list(bitstring))\n",
    "    return (hamming_weight) % 2\n",
    "\n",
    "def label_probability(results):\n",
    "    shots = sum(results.values())\n",
    "    probabilities = {0: 0, 1: 0}\n",
    "    #probabilities = {0: 0, 1: 0, 2: 0}\n",
    "    for bitstring, counts in results.items():\n",
    "        label = interpreter(bitstring)\n",
    "        probabilities[label] += counts / shots\n",
    "    return probabilities"
   ],
   "id": "4385d3570de6ea3c",
   "outputs": [],
   "execution_count": 14
  },
  {
   "metadata": {
    "ExecuteTime": {
     "end_time": "2025-06-07T14:37:33.289903Z",
     "start_time": "2025-06-07T14:37:33.285039Z"
    }
   },
   "cell_type": "code",
   "source": [
    "def classification_probability(data, variational):\n",
    "    circuits = [circuit_instance(tupla, variational) for tupla in data]\n",
    "    sampler = StatevectorSampler()\n",
    "    results = sampler.run(circuits).result()\n",
    "    classification = [label_probability(results[i].data.meas.get_counts()) for i, c in enumerate(circuits)]\n",
    "\n",
    "    return classification\n",
    "\n",
    "\n",
    "def classification_probability_with_noisy(data, variational):\n",
    "    circuits = [circuit_instance(tupla, variational) for tupla in data]\n",
    "    # Usa FakeVigo come backend simulato\n",
    "    fake_backend = FakeVigoV2()\n",
    "    sim = AerSimulator.from_backend(fake_backend)\n",
    "\n",
    "    # Transpila il circuito per la topologia di FakeVigo\n",
    "    transpiled_qc = transpile(circuits, sim)\n",
    "    results = sim.run(transpiled_qc).result()\n",
    "\n",
    "    classifications = []\n",
    "\n",
    "    for result in results.get_counts():\n",
    "        classifications.append(label_probability(result))\n",
    "\n",
    "    return classifications\n",
    "\n"
   ],
   "id": "c8e1f1f78b3b4368",
   "outputs": [],
   "execution_count": 15
  },
  {
   "metadata": {
    "ExecuteTime": {
     "end_time": "2025-06-07T14:37:33.316957Z",
     "start_time": "2025-06-07T14:37:33.311885Z"
    }
   },
   "cell_type": "code",
   "source": [
    "def cost_function(data, labels, variational):\n",
    "    classifications = classification_probability(data, variational)\n",
    "    cost=log_loss(y_true=labels,y_pred=[[p[0],p[1]] for p in classifications])\n",
    "    return cost\n",
    "\n",
    "def cost_function_with_noisy(data, labels, variational):\n",
    "    classifications = classification_probability_with_noisy(data, variational)\n",
    "    cost=log_loss(y_true=labels,y_pred=[[p[0],p[1]] for p in classifications])\n",
    "    return cost\n",
    "\n",
    "def objective_function(variational):\n",
    "    #return cost_function_with_noisy(X_train_new,y_train_new,variational)\n",
    "    return cost_function(X_train_new, y_train_new, variational)"
   ],
   "id": "191b3f4be32688d9",
   "outputs": [],
   "execution_count": 16
  },
  {
   "metadata": {
    "ExecuteTime": {
     "end_time": "2025-06-07T14:43:14.592037Z",
     "start_time": "2025-06-07T14:37:33.341586Z"
    }
   },
   "cell_type": "code",
   "source": [
    "from scipy.optimize import minimize, differential_evolution\n",
    "\n",
    "class OptimizerLog:\n",
    "    \"\"\"Log per salvare i risultati intermedi dell'ottimizzazione.\"\"\"\n",
    "    def __init__(self):\n",
    "        self.evaluations = 1\n",
    "        self.parameters = []\n",
    "        self.costs = []\n",
    "\n",
    "    def callback(self, xk):\n",
    "        \"\"\"Funzione di callback compatibile con scipy.optimize.minimize.\"\"\"\n",
    "        cost = objective_function(xk)\n",
    "        self.parameters.append(xk.copy())\n",
    "        print(\"loss_function:\", cost, \"iterazione:\", self.evaluations)\n",
    "        self.costs.append(cost)\n",
    "        self.evaluations += 1\n",
    "\n",
    "# Istanzia il logger\n",
    "logger = OptimizerLog()\n",
    "\n",
    "# Punto iniziale (supponiamo che ansatz.num_parameters sia definito)\n",
    "initial_point = np.zeros((ansatz.num_parameters))\n",
    "#initial_point = np.random.uniform(0, 2*np.pi, size=ansatz.num_parameters)\n",
    "\n",
    "#Esegui l'ottimizzazione\n",
    "res = minimize(\n",
    "    objective_function,\n",
    "    initial_point,\n",
    "    method=\"COBYLA\",\n",
    "    options={\"maxiter\": 5000, \"disp\": True},\n",
    "    callback=logger.callback\n",
    ")"
   ],
   "id": "fdebda9e07752d1",
   "outputs": [
    {
     "name": "stdout",
     "output_type": "stream",
     "text": [
      "loss_function: 0.6926251594479153 iterazione: 1\n",
      "loss_function: 0.6925190245750391 iterazione: 2\n",
      "loss_function: 0.6973206011054204 iterazione: 3\n",
      "loss_function: 0.6960018968546229 iterazione: 4\n",
      "loss_function: 0.9095309399491096 iterazione: 5\n",
      "loss_function: 0.6956000253828727 iterazione: 6\n",
      "loss_function: 0.6983422726367412 iterazione: 7\n",
      "loss_function: 0.6936465964324918 iterazione: 8\n",
      "loss_function: 0.6951487985724395 iterazione: 9\n",
      "loss_function: 0.6881079320856855 iterazione: 10\n",
      "loss_function: 0.6918712123501792 iterazione: 11\n",
      "loss_function: 0.687184478083182 iterazione: 12\n",
      "loss_function: 0.6954819705435594 iterazione: 13\n",
      "loss_function: 0.690048317127578 iterazione: 14\n",
      "loss_function: 1.0789082167524815 iterazione: 15\n",
      "loss_function: 0.6897655137689523 iterazione: 16\n",
      "loss_function: 0.6960309485067597 iterazione: 17\n",
      "loss_function: 0.6942316304191859 iterazione: 18\n",
      "loss_function: 0.6929850642208605 iterazione: 19\n",
      "loss_function: 0.6956171575328225 iterazione: 20\n",
      "loss_function: 0.6759647482034692 iterazione: 21\n",
      "loss_function: 0.6788260416451875 iterazione: 22\n",
      "loss_function: 0.6911655333807762 iterazione: 23\n",
      "loss_function: 0.6782885779036956 iterazione: 24\n",
      "loss_function: 0.7196332015998053 iterazione: 25\n",
      "loss_function: 0.6733144868261901 iterazione: 26\n",
      "loss_function: 0.6730523812632712 iterazione: 27\n",
      "loss_function: 0.6704748016972827 iterazione: 28\n",
      "loss_function: 0.671450328253288 iterazione: 29\n",
      "loss_function: 0.6702603555162051 iterazione: 30\n",
      "loss_function: 0.6770653429295852 iterazione: 31\n",
      "loss_function: 0.6736732185415006 iterazione: 32\n",
      "loss_function: 0.705109291664038 iterazione: 33\n",
      "loss_function: 0.6765782416348427 iterazione: 34\n",
      "loss_function: 0.6603537797661314 iterazione: 35\n",
      "loss_function: 0.672516814559418 iterazione: 36\n",
      "loss_function: 0.6504415087654524 iterazione: 37\n",
      "loss_function: 0.6681645525387593 iterazione: 38\n",
      "loss_function: 0.6404107435115249 iterazione: 39\n",
      "loss_function: 0.6447790378685988 iterazione: 40\n",
      "loss_function: 0.6390393700182286 iterazione: 41\n",
      "loss_function: 0.6416743634084899 iterazione: 42\n",
      "loss_function: 0.6376523907212692 iterazione: 43\n",
      "loss_function: 0.6501744429066039 iterazione: 44\n",
      "loss_function: 0.6364294222216549 iterazione: 45\n",
      "loss_function: 0.6676981672071786 iterazione: 46\n",
      "loss_function: 0.6459688082973896 iterazione: 47\n",
      "loss_function: 0.612125102923883 iterazione: 48\n",
      "loss_function: 0.6077269241439209 iterazione: 49\n",
      "loss_function: 0.6137393495488352 iterazione: 50\n",
      "loss_function: 0.6170109153582083 iterazione: 51\n",
      "loss_function: 0.6424033402254908 iterazione: 52\n",
      "loss_function: 0.6146870582266826 iterazione: 53\n",
      "loss_function: 0.6138163369948714 iterazione: 54\n",
      "loss_function: 0.6113352030165956 iterazione: 55\n",
      "loss_function: 0.6514908013731371 iterazione: 56\n",
      "loss_function: 0.6364003476455945 iterazione: 57\n",
      "loss_function: 0.6152421032129474 iterazione: 58\n",
      "loss_function: 0.6067891382544277 iterazione: 59\n",
      "loss_function: 0.608238848163558 iterazione: 60\n",
      "loss_function: 0.6003231267882647 iterazione: 61\n",
      "loss_function: 0.6165920069606536 iterazione: 62\n",
      "loss_function: 0.6134860106965281 iterazione: 63\n",
      "loss_function: 0.6079789290034744 iterazione: 64\n",
      "loss_function: 0.6095260691649285 iterazione: 65\n",
      "loss_function: 0.6333580710087364 iterazione: 66\n",
      "loss_function: 0.6200715167317297 iterazione: 67\n",
      "loss_function: 0.6216505125157511 iterazione: 68\n",
      "loss_function: 0.6128839899068224 iterazione: 69\n",
      "loss_function: 0.6128615600852567 iterazione: 70\n",
      "loss_function: 0.6156556447894 iterazione: 71\n",
      "loss_function: 0.6071252736498566 iterazione: 72\n",
      "loss_function: 0.6093869939501896 iterazione: 73\n",
      "loss_function: 0.6068527530923221 iterazione: 74\n",
      "loss_function: 0.6150849549990584 iterazione: 75\n",
      "loss_function: 0.6055204215205361 iterazione: 76\n",
      "loss_function: 0.610803052561804 iterazione: 77\n",
      "loss_function: 0.6059899857597879 iterazione: 78\n",
      "loss_function: 0.6009226581370137 iterazione: 79\n",
      "loss_function: 0.612896668467966 iterazione: 80\n",
      "loss_function: 0.6102060480726578 iterazione: 81\n",
      "loss_function: 0.6036674181182015 iterazione: 82\n",
      "loss_function: 0.6176420152833139 iterazione: 83\n",
      "loss_function: 0.5973654275185207 iterazione: 84\n",
      "loss_function: 0.6008372165437375 iterazione: 85\n",
      "loss_function: 0.6004882290258231 iterazione: 86\n",
      "loss_function: 0.6142114180433437 iterazione: 87\n",
      "loss_function: 0.598583080142543 iterazione: 88\n",
      "loss_function: 0.5810585077336327 iterazione: 89\n",
      "loss_function: 0.5792600122575049 iterazione: 90\n",
      "loss_function: 0.6011540253529374 iterazione: 91\n",
      "loss_function: 0.5900027018661578 iterazione: 92\n",
      "loss_function: 0.5866905283249719 iterazione: 93\n",
      "loss_function: 0.5863223657180678 iterazione: 94\n",
      "loss_function: 0.580811891052044 iterazione: 95\n",
      "loss_function: 0.5934233561240853 iterazione: 96\n",
      "loss_function: 0.561633340051409 iterazione: 97\n",
      "loss_function: 0.580308607093379 iterazione: 98\n",
      "loss_function: 0.5622687257323601 iterazione: 99\n",
      "loss_function: 0.5560130779679072 iterazione: 100\n",
      "loss_function: 0.550284208816492 iterazione: 101\n",
      "loss_function: 0.5713680003216987 iterazione: 102\n",
      "loss_function: 0.548604323179363 iterazione: 103\n",
      "loss_function: 0.5531688231788542 iterazione: 104\n",
      "loss_function: 0.5577558711806574 iterazione: 105\n",
      "loss_function: 0.55967983465648 iterazione: 106\n",
      "loss_function: 0.5516564917838098 iterazione: 107\n",
      "loss_function: 0.5598871204892131 iterazione: 108\n",
      "loss_function: 0.5495561776986135 iterazione: 109\n",
      "loss_function: 0.5627991335968018 iterazione: 110\n",
      "loss_function: 0.5483331186514504 iterazione: 111\n",
      "loss_function: 0.5501773963681362 iterazione: 112\n",
      "loss_function: 0.5486564629041608 iterazione: 113\n",
      "loss_function: 0.5593092241533827 iterazione: 114\n",
      "loss_function: 0.562511673375572 iterazione: 115\n",
      "loss_function: 0.5646655741408858 iterazione: 116\n",
      "loss_function: 0.5489758449079141 iterazione: 117\n",
      "loss_function: 0.5498053036065835 iterazione: 118\n",
      "loss_function: 0.5515954842097563 iterazione: 119\n",
      "loss_function: 0.5438802612646999 iterazione: 120\n",
      "loss_function: 0.5498548336217295 iterazione: 121\n",
      "loss_function: 0.5498487295850539 iterazione: 122\n",
      "loss_function: 0.5444743951781934 iterazione: 123\n",
      "loss_function: 0.5490599381470298 iterazione: 124\n",
      "loss_function: 0.5507719971183201 iterazione: 125\n",
      "loss_function: 0.5653500551659715 iterazione: 126\n",
      "loss_function: 0.5537009005322759 iterazione: 127\n",
      "loss_function: 0.537618954240632 iterazione: 128\n",
      "loss_function: 0.5456501058229976 iterazione: 129\n",
      "loss_function: 0.5398284350856191 iterazione: 130\n",
      "loss_function: 0.5341938811566558 iterazione: 131\n",
      "loss_function: 0.5307707003444051 iterazione: 132\n",
      "loss_function: 0.5351971428180773 iterazione: 133\n",
      "loss_function: 0.529066925897809 iterazione: 134\n",
      "loss_function: 0.535934010216193 iterazione: 135\n",
      "loss_function: 0.5339864570865145 iterazione: 136\n",
      "loss_function: 0.5319138373558812 iterazione: 137\n",
      "loss_function: 0.5267465967376828 iterazione: 138\n",
      "loss_function: 0.5326258499737063 iterazione: 139\n",
      "loss_function: 0.533987263434763 iterazione: 140\n",
      "loss_function: 0.5407797994497446 iterazione: 141\n",
      "loss_function: 0.5364163653346874 iterazione: 142\n",
      "loss_function: 0.533666323811713 iterazione: 143\n",
      "loss_function: 0.5454123676883774 iterazione: 144\n",
      "loss_function: 0.5303020148354025 iterazione: 145\n",
      "loss_function: 0.5363940524921968 iterazione: 146\n",
      "loss_function: 0.5417194358998324 iterazione: 147\n",
      "loss_function: 0.538022655123763 iterazione: 148\n",
      "loss_function: 0.5360512002154572 iterazione: 149\n",
      "loss_function: 0.5338911190148256 iterazione: 150\n",
      "loss_function: 0.5312590160684659 iterazione: 151\n",
      "loss_function: 0.5322439377194256 iterazione: 152\n",
      "loss_function: 0.535528872720643 iterazione: 153\n",
      "loss_function: 0.5355604776519838 iterazione: 154\n",
      "loss_function: 0.5340375451088917 iterazione: 155\n",
      "loss_function: 0.535726511422301 iterazione: 156\n",
      "loss_function: 0.5346146145499664 iterazione: 157\n",
      "loss_function: 0.5243477386565969 iterazione: 158\n",
      "loss_function: 0.5337737878342725 iterazione: 159\n",
      "loss_function: 0.5329003803758378 iterazione: 160\n",
      "loss_function: 0.5355447536350255 iterazione: 161\n",
      "loss_function: 0.5310033011314707 iterazione: 162\n",
      "loss_function: 0.5312074112480563 iterazione: 163\n",
      "loss_function: 0.5358194414617473 iterazione: 164\n",
      "loss_function: 0.5379181948917822 iterazione: 165\n",
      "loss_function: 0.5356764875172059 iterazione: 166\n",
      "loss_function: 0.5383204742759319 iterazione: 167\n",
      "loss_function: 0.5381615849244143 iterazione: 168\n",
      "loss_function: 0.5321029776963552 iterazione: 169\n",
      "loss_function: 0.5344406137654515 iterazione: 170\n",
      "loss_function: 0.5342652237994945 iterazione: 171\n",
      "loss_function: 0.5311144112483291 iterazione: 172\n",
      "loss_function: 0.5348831056636156 iterazione: 173\n",
      "loss_function: 0.5267210174953518 iterazione: 174\n",
      "loss_function: 0.5309211931110791 iterazione: 175\n",
      "loss_function: 0.5332882756780459 iterazione: 176\n",
      "loss_function: 0.531196682865009 iterazione: 177\n",
      "loss_function: 0.5360262010609741 iterazione: 178\n",
      "loss_function: 0.5360148718902388 iterazione: 179\n",
      "loss_function: 0.5353661360432282 iterazione: 180\n",
      "loss_function: 0.5365575367139789 iterazione: 181\n",
      "loss_function: 0.5304227873250271 iterazione: 182\n",
      "loss_function: 0.5382878442460404 iterazione: 183\n",
      "loss_function: 0.5364926561201817 iterazione: 184\n",
      "loss_function: 0.5335920306807401 iterazione: 185\n",
      "loss_function: 0.5350469202017122 iterazione: 186\n",
      "loss_function: 0.5317194530940613 iterazione: 187\n",
      "loss_function: 0.5329679008822972 iterazione: 188\n",
      "loss_function: 0.5333049226072418 iterazione: 189\n",
      "loss_function: 0.536952222972466 iterazione: 190\n",
      "loss_function: 0.5363292149483769 iterazione: 191\n",
      "loss_function: 0.537567605346742 iterazione: 192\n",
      "loss_function: 0.5346622329242339 iterazione: 193\n",
      "loss_function: 0.5382410833102959 iterazione: 194\n",
      "loss_function: 0.5359969528522214 iterazione: 195\n",
      "loss_function: 0.5385714407219497 iterazione: 196\n",
      "loss_function: 0.5332291925265965 iterazione: 197\n",
      "loss_function: 0.5320063917607476 iterazione: 198\n",
      "loss_function: 0.5330703472190541 iterazione: 199\n",
      "loss_function: 0.5302916697519123 iterazione: 200\n",
      "loss_function: 0.5331861860551259 iterazione: 201\n",
      "loss_function: 0.5334258222313449 iterazione: 202\n",
      "loss_function: 0.5311705891485805 iterazione: 203\n",
      "loss_function: 0.5335036018674402 iterazione: 204\n",
      "loss_function: 0.5330497309677721 iterazione: 205\n",
      "loss_function: 0.5342158796294351 iterazione: 206\n",
      "loss_function: 0.5334875037335589 iterazione: 207\n",
      "loss_function: 0.5360759414398132 iterazione: 208\n",
      "loss_function: 0.5346191700734573 iterazione: 209\n",
      "loss_function: 0.5392081749576464 iterazione: 210\n",
      "loss_function: 0.5311318942657678 iterazione: 211\n",
      "loss_function: 0.5347668585945548 iterazione: 212\n",
      "loss_function: 0.5367411762480567 iterazione: 213\n",
      "loss_function: 0.5334286136008143 iterazione: 214\n",
      "loss_function: 0.5342302476567558 iterazione: 215\n",
      "loss_function: 0.5332473035231498 iterazione: 216\n",
      "loss_function: 0.5343900075125998 iterazione: 217\n",
      "loss_function: 0.5316082576553197 iterazione: 218\n",
      "loss_function: 0.5375107823230578 iterazione: 219\n",
      "loss_function: 0.5334379107200979 iterazione: 220\n",
      "loss_function: 0.5329280812553897 iterazione: 221\n",
      "loss_function: 0.5362028989842695 iterazione: 222\n",
      "loss_function: 0.5331201943022096 iterazione: 223\n",
      "loss_function: 0.5342796756544055 iterazione: 224\n",
      "loss_function: 0.5314665850426074 iterazione: 225\n",
      "loss_function: 0.5302225550975506 iterazione: 226\n",
      "loss_function: 0.5294491176524194 iterazione: 227\n",
      "loss_function: 0.5363412645767257 iterazione: 228\n",
      "loss_function: 0.535146718032462 iterazione: 229\n",
      "loss_function: 0.5328538961405467 iterazione: 230\n",
      "loss_function: 0.5338256007988644 iterazione: 231\n",
      "loss_function: 0.5318966757210126 iterazione: 232\n",
      "loss_function: 0.5369961348209982 iterazione: 233\n",
      "loss_function: 0.5353718451504603 iterazione: 234\n",
      "loss_function: 0.5391581787753998 iterazione: 235\n",
      "loss_function: 0.5349434873393586 iterazione: 236\n",
      "loss_function: 0.5323510136168911 iterazione: 237\n",
      "loss_function: 0.5370331274851675 iterazione: 238\n",
      "loss_function: 0.5361102669033527 iterazione: 239\n",
      "loss_function: 0.5304901811183657 iterazione: 240\n",
      "loss_function: 0.5374510897026871 iterazione: 241\n",
      "loss_function: 0.532578008881912 iterazione: 242\n",
      "loss_function: 0.5359465267933375 iterazione: 243\n",
      "loss_function: 0.5362252699843246 iterazione: 244\n",
      "loss_function: 0.533005031408611 iterazione: 245\n",
      "loss_function: 0.532920636267163 iterazione: 246\n",
      "loss_function: 0.5370159381704821 iterazione: 247\n",
      "loss_function: 0.528188195755567 iterazione: 248\n",
      "loss_function: 0.5310768797595299 iterazione: 249\n",
      "loss_function: 0.5360784380321801 iterazione: 250\n",
      "loss_function: 0.5343132507355758 iterazione: 251\n",
      "loss_function: 0.5343475466561994 iterazione: 252\n",
      "loss_function: 0.5335387353703119 iterazione: 253\n",
      "loss_function: 0.5335257784004781 iterazione: 254\n",
      "loss_function: 0.5310725077728514 iterazione: 255\n",
      "loss_function: 0.5303284046305354 iterazione: 256\n",
      "loss_function: 0.5336380743418501 iterazione: 257\n",
      "loss_function: 0.5361377815753576 iterazione: 258\n",
      "loss_function: 0.5340135020733046 iterazione: 259\n",
      "loss_function: 0.5306010451884471 iterazione: 260\n",
      "loss_function: 0.5312892563843344 iterazione: 261\n",
      "loss_function: 0.5348704360102472 iterazione: 262\n",
      "loss_function: 0.5347252645279043 iterazione: 263\n",
      "loss_function: 0.5367532377325998 iterazione: 264\n",
      "loss_function: 0.5325912926798119 iterazione: 265\n",
      "loss_function: 0.535650552331991 iterazione: 266\n",
      "loss_function: 0.5334272358415664 iterazione: 267\n",
      "loss_function: 0.5320220199837056 iterazione: 268\n",
      "loss_function: 0.535630795288221 iterazione: 269\n",
      "loss_function: 0.5344289421772822 iterazione: 270\n",
      "loss_function: 0.5325729800628278 iterazione: 271\n",
      "loss_function: 0.5372142527718816 iterazione: 272\n",
      "loss_function: 0.536754409965583 iterazione: 273\n",
      "loss_function: 0.5356168424190325 iterazione: 274\n",
      "loss_function: 0.5348615415990888 iterazione: 275\n",
      "loss_function: 0.5346563068482181 iterazione: 276\n",
      "loss_function: 0.5341765452709288 iterazione: 277\n",
      "loss_function: 0.5331076824398308 iterazione: 278\n",
      "loss_function: 0.5290564225716781 iterazione: 279\n",
      "loss_function: 0.5295543384667153 iterazione: 280\n",
      "loss_function: 0.5334860453425503 iterazione: 281\n",
      "loss_function: 0.5375452740463987 iterazione: 282\n",
      "loss_function: 0.5360213517555595 iterazione: 283\n",
      "loss_function: 0.534088257252513 iterazione: 284\n",
      "loss_function: 0.5352186795208146 iterazione: 285\n",
      "loss_function: 0.5398016200618213 iterazione: 286\n",
      "loss_function: 0.535797514895996 iterazione: 287\n",
      "loss_function: 0.5303805527198786 iterazione: 288\n",
      "loss_function: 0.5365641089548845 iterazione: 289\n",
      "loss_function: 0.5297228298217561 iterazione: 290\n",
      "loss_function: 0.5343452982926498 iterazione: 291\n",
      "loss_function: 0.5301394926598206 iterazione: 292\n",
      "loss_function: 0.5318370101055523 iterazione: 293\n",
      "loss_function: 0.5365854343163529 iterazione: 294\n",
      "loss_function: 0.5360997764757119 iterazione: 295\n",
      "loss_function: 0.5322199472337792 iterazione: 296\n",
      "loss_function: 0.5328190564031022 iterazione: 297\n",
      "loss_function: 0.534855495879175 iterazione: 298\n",
      "loss_function: 0.5306770484245817 iterazione: 299\n",
      "loss_function: 0.5343724648779918 iterazione: 300\n",
      "loss_function: 0.535071118872255 iterazione: 301\n",
      "loss_function: 0.536220658195951 iterazione: 302\n",
      "loss_function: 0.5343992313669748 iterazione: 303\n",
      "loss_function: 0.5363082061442824 iterazione: 304\n",
      "loss_function: 0.5303277487582801 iterazione: 305\n",
      "loss_function: 0.5327136711570134 iterazione: 306\n",
      "loss_function: 0.5358054941866701 iterazione: 307\n",
      "loss_function: 0.538335920107696 iterazione: 308\n",
      "loss_function: 0.5356005556697888 iterazione: 309\n",
      "loss_function: 0.5338074938878439 iterazione: 310\n",
      "loss_function: 0.5305406720257546 iterazione: 311\n",
      "loss_function: 0.5348276003136508 iterazione: 312\n",
      "loss_function: 0.5334312731677875 iterazione: 313\n",
      "loss_function: 0.5309295160373939 iterazione: 314\n"
     ]
    }
   ],
   "execution_count": 17
  },
  {
   "metadata": {
    "ExecuteTime": {
     "end_time": "2025-06-07T14:43:14.765346Z",
     "start_time": "2025-06-07T14:43:14.676608Z"
    }
   },
   "cell_type": "code",
   "source": [
    "opt_var = res.x # migliori parametri della funzione obiettivo e quindi dell'ansatz\n",
    "opt_value = res.fun # ultima valutazione della funzione obiettivo, nel nostro caso cross-entropy (log_loss)\n",
    "\n",
    "fig = plt.figure()\n",
    "plt.plot(logger.costs)\n",
    "plt.xlabel('Steps')\n",
    "plt.ylabel('Cost')\n",
    "plt.show()\n",
    "\n",
    "print(\"migliori parametri\",opt_var)\n",
    "print(\"miglior funzione obiettivo\",opt_value)"
   ],
   "id": "7a18d40d23eaa44f",
   "outputs": [
    {
     "data": {
      "text/plain": [
       "<Figure size 640x480 with 1 Axes>"
      ],
      "image/png": "[encoded data removed]"
     },
     "metadata": {},
     "output_type": "display_data"
    },
    {
     "name": "stdout",
     "output_type": "stream",
     "text": [
      "migliori parametri [ 1.56388117  0.34504496 -0.24633758  1.79147563 -1.14468587  0.60092567\n",
      " -0.47278429 -0.0672067   1.28213455 -0.75372321  0.43909335 -0.11210669\n",
      " -0.00456436  0.8910891   0.24268408 -0.43877422 -0.19780938 -0.4214258\n",
      "  0.46024879  0.29042968  0.8637878   0.33328598  0.04296304 -0.21715538\n",
      " -0.97255176  1.24098782  0.0981319  -0.66568797  1.04688529 -0.18989483]\n",
      "miglior funzione obiettivo 0.5348108404941552\n"
     ]
    }
   ],
   "execution_count": 18
  },
  {
   "metadata": {
    "ExecuteTime": {
     "end_time": "2025-06-07T14:43:16.939642Z",
     "start_time": "2025-06-07T14:43:14.800795Z"
    }
   },
   "cell_type": "code",
   "source": [
    "def test_classifier(data, labels, variational):\n",
    "    probability = classification_probability_with_noisy(data, variational)\n",
    "    #print(probability)\n",
    "    predictions= [max(p, key=p.get) for p in probability]\n",
    "    accuracy = 0\n",
    "    for i, prediction in enumerate(predictions):\n",
    "        if prediction == labels[i]:\n",
    "            accuracy += 1\n",
    "    accuracy /= len(labels)\n",
    "    return accuracy, predictions\n",
    "\n",
    "accuracy_train, predictions_train = test_classifier(X_train_new, y_train_new, opt_var)\n",
    "accuracy_test, predictions_test = test_classifier(X_test_new, y_test_new, opt_var)\n",
    "print(accuracy_train,accuracy_test)"
   ],
   "id": "6f88b8ca4b0f6811",
   "outputs": [
    {
     "name": "stdout",
     "output_type": "stream",
     "text": [
      "0.7642857142857142 0.7666666666666667\n"
     ]
    }
   ],
   "execution_count": 19
  },
  {
   "metadata": {
    "ExecuteTime": {
     "end_time": "2025-06-07T14:43:16.972920Z",
     "start_time": "2025-06-07T14:43:16.967582Z"
    }
   },
   "cell_type": "code",
   "source": [
    "accuracy_train=accuracy_score(y_train_new,predictions_train)\n",
    "accuracy_test=accuracy_score(y_test_new,predictions_test)\n",
    "print(accuracy_train)\n",
    "print(accuracy_test)"
   ],
   "id": "6389f97f747c6548",
   "outputs": [
    {
     "name": "stdout",
     "output_type": "stream",
     "text": [
      "0.7642857142857142\n",
      "0.7666666666666667\n"
     ]
    }
   ],
   "execution_count": 20
  },
  {
   "metadata": {
    "ExecuteTime": {
     "end_time": "2025-06-07T14:43:17.024199Z",
     "start_time": "2025-06-07T14:43:17.018171Z"
    }
   },
   "cell_type": "code",
   "source": [
    "from sklearn.metrics import confusion_matrix\n",
    "confusion_matrix(y_test_new,predictions_test)"
   ],
   "id": "b2b156a11d67192a",
   "outputs": [
    {
     "data": {
      "text/plain": [
       "array([[23,  8],\n",
       "       [ 6, 23]])"
      ]
     },
     "execution_count": 21,
     "metadata": {},
     "output_type": "execute_result"
    }
   ],
   "execution_count": 21
  },
  {
   "metadata": {
    "ExecuteTime": {
     "end_time": "2025-06-07T14:43:17.130185Z",
     "start_time": "2025-06-07T14:43:17.122782Z"
    }
   },
   "cell_type": "code",
   "source": "confusion_matrix(y_train_new,predictions_train)",
   "id": "45c7a5df56a1a2ea",
   "outputs": [
    {
     "data": {
      "text/plain": [
       "array([[49, 20],\n",
       "       [13, 58]])"
      ]
     },
     "execution_count": 22,
     "metadata": {},
     "output_type": "execute_result"
    }
   ],
   "execution_count": 22
  },
  {
   "metadata": {},
   "cell_type": "markdown",
   "source": "### Risultati",
   "id": "58e794fe55826974"
  },
  {
   "metadata": {
    "ExecuteTime": {
     "end_time": "2025-06-07T14:43:17.690487Z",
     "start_time": "2025-06-07T14:43:17.674918Z"
    }
   },
   "cell_type": "code",
   "source": [
    "from sklearn.metrics import (\n",
    "    accuracy_score,\n",
    "    precision_score,\n",
    "    recall_score,\n",
    "    f1_score\n",
    ")\n",
    "\n",
    "# Calcolo delle metriche\n",
    "accuracy  = accuracy_score(y_test_new, predictions_test)\n",
    "precision = precision_score(y_test_new, predictions_test)\n",
    "recall    = recall_score(y_test_new, predictions_test)\n",
    "f1        = f1_score(y_test_new, predictions_test)\n",
    "\n",
    "print(f\"Accuracy:  {accuracy:.2f}\")\n",
    "print(f\"Precision: {precision:.2f}\")\n",
    "print(f\"Recall:    {recall:.2f}\")\n",
    "print(f\"F1-score:  {f1:.2f}\")"
   ],
   "id": "da71b1021e831304",
   "outputs": [
    {
     "name": "stdout",
     "output_type": "stream",
     "text": [
      "Accuracy:  0.77\n",
      "Precision: 0.74\n",
      "Recall:    0.79\n",
      "F1-score:  0.77\n"
     ]
    }
   ],
   "execution_count": 23
  }
 ],
 "metadata": {
  "kernelspec": {
   "display_name": "Python 3",
   "language": "python",
   "name": "python3"
  },
  "language_info": {
   "codemirror_mode": {
    "name": "ipython",
    "version": 2
   },
   "file_extension": ".py",
   "mimetype": "text/x-python",
   "name": "python",
   "nbconvert_exporter": "python",
   "pygments_lexer": "ipython2",
   "version": "2.7.6"
  }
 },
 "nbformat": 4,
 "nbformat_minor": 5
}
